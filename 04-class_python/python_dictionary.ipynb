{
  "nbformat": 4,
  "nbformat_minor": 0,
  "metadata": {
    "colab": {
      "provenance": []
    },
    "kernelspec": {
      "name": "python3",
      "display_name": "Python 3"
    },
    "language_info": {
      "name": "python"
    }
  },
  "cells": [
    {
      "cell_type": "markdown",
      "source": [
        "Date: 23-October-2025\n",
        "\n",
        "## Instructor: Ambreen Abdul Raheem\n",
        "### Professional Power BI Data Analyst And AI Agent Developer (Upwork Freelancer)\n",
        "#### Topic: Python Dictionary"
      ],
      "metadata": {
        "id": "xbiM0Sdlk5og"
      }
    },
    {
      "cell_type": "code",
      "execution_count": 1,
      "metadata": {
        "colab": {
          "base_uri": "https://localhost:8080/"
        },
        "id": "N2hJS-9Ok4Rx",
        "outputId": "6b720b2d-1eb4-4215-af82-d6da888f27bd"
      },
      "outputs": [
        {
          "output_type": "stream",
          "name": "stdout",
          "text": [
            "{'name': 'Robbert', 'age': 25, 'visited_cities': ['New York', 'Los Angeles', 'Chicago']}\n"
          ]
        }
      ],
      "source": [
        "# Creating a dictionary with personal details\n",
        "person = {\n",
        "    \"name\": \"Robbert\",\n",
        "    \"age\": 25,\n",
        "    \"visited_cities\": [\"New York\", \"Los Angeles\", \"Chicago\"]\n",
        "}\n",
        "print(person)"
      ]
    },
    {
      "cell_type": "code",
      "source": [
        "# datatype\n",
        "my_dict = dict(name=\"John\", age=36, country=\"Norway\")\n",
        "print(type(my_dict), \"-\", my_dict)"
      ],
      "metadata": {
        "colab": {
          "base_uri": "https://localhost:8080/"
        },
        "id": "D1A0skHAljBI",
        "outputId": "8b61078f-3b97-4540-8a6b-5cc8377a916b"
      },
      "execution_count": 2,
      "outputs": [
        {
          "output_type": "stream",
          "name": "stdout",
          "text": [
            "<class 'dict'> - {'name': 'John', 'age': 36, 'country': 'Norway'}\n"
          ]
        }
      ]
    },
    {
      "cell_type": "code",
      "source": [
        "# Accessing Dictionary Items\n",
        "print(person[\"name\"])\n",
        "print(person.get(\"age\"))"
      ],
      "metadata": {
        "colab": {
          "base_uri": "https://localhost:8080/"
        },
        "id": "G57E-H5ilzmn",
        "outputId": "40ac958e-1912-4490-c23b-5ec888899ce5"
      },
      "execution_count": 4,
      "outputs": [
        {
          "output_type": "stream",
          "name": "stdout",
          "text": [
            "Robbert\n",
            "25\n"
          ]
        }
      ]
    },
    {
      "cell_type": "code",
      "source": [
        "# Modifying a Dictionary\n",
        "person[\"age\"] = 26\n",
        "person[\"city\"] = \"San Francisco\"\n",
        "print(person)\n"
      ],
      "metadata": {
        "colab": {
          "base_uri": "https://localhost:8080/"
        },
        "id": "tdxFGzIamBZ_",
        "outputId": "66d16977-a286-49ff-d84d-e0d9af6fedc1"
      },
      "execution_count": 5,
      "outputs": [
        {
          "output_type": "stream",
          "name": "stdout",
          "text": [
            "{'name': 'Robbert', 'age': 26, 'visited_cities': ['New York', 'Los Angeles', 'Chicago'], 'city': 'San Francisco'}\n"
          ]
        }
      ]
    },
    {
      "cell_type": "code",
      "source": [
        "# Deleting Items\n",
        "# Remove specific key\n",
        "del person[\"city\"]\n",
        "\n",
        "# Remove and return a value\n",
        "age = person.pop(\"age\")\n",
        "print(\"Removed age:\", age)\n",
        "\n",
        "# Remove all items\n",
        "person.clear()"
      ],
      "metadata": {
        "colab": {
          "base_uri": "https://localhost:8080/"
        },
        "id": "ve3gucuImO8n",
        "outputId": "f5f80f7d-548e-46a6-d8f2-abae13590e6c"
      },
      "execution_count": 6,
      "outputs": [
        {
          "output_type": "stream",
          "name": "stdout",
          "text": [
            "Removed age: 26\n"
          ]
        }
      ]
    },
    {
      "cell_type": "code",
      "source": [
        "# Creating dictionary\n",
        "student = {\"name\": \"Ali\", \"age\": 22, \"grade\": \"A\"}\n",
        "\n",
        "print(student.keys())     # dict_keys(['name', 'age', 'grade'])\n",
        "print(student.values())   # dict_values(['Ali', 22, 'A'])\n",
        "print(student.items())    # dict_items([('name', 'Ali'), ('age', 22), ('grade', 'A')])"
      ],
      "metadata": {
        "colab": {
          "base_uri": "https://localhost:8080/"
        },
        "id": "TUgxjxdvmeaP",
        "outputId": "0a8b557d-ab1a-4a27-a4b4-f88b3b2e9ecb"
      },
      "execution_count": 7,
      "outputs": [
        {
          "output_type": "stream",
          "name": "stdout",
          "text": [
            "dict_keys(['name', 'age', 'grade'])\n",
            "dict_values(['Ali', 22, 'A'])\n",
            "dict_items([('name', 'Ali'), ('age', 22), ('grade', 'A')])\n"
          ]
        }
      ]
    },
    {
      "cell_type": "code",
      "source": [
        "# Looping Through a Dictionary\n",
        "for key in student:\n",
        "    print(key, \":\", student[key])\n",
        "\n",
        "# Or\n",
        "for key, value in student.items():\n",
        "    print(f\"{key} → {value}\")"
      ],
      "metadata": {
        "colab": {
          "base_uri": "https://localhost:8080/"
        },
        "id": "Av6WgmCmmqlv",
        "outputId": "d5b13bc8-fe4f-4141-8ee9-a284ab99ee18"
      },
      "execution_count": 8,
      "outputs": [
        {
          "output_type": "stream",
          "name": "stdout",
          "text": [
            "name : Ali\n",
            "age : 22\n",
            "grade : A\n",
            "name → Ali\n",
            "age → 22\n",
            "grade → A\n"
          ]
        }
      ]
    },
    {
      "cell_type": "code",
      "source": [
        "myfamily = {\n",
        "    \"child1\": {\"name\": \"Aisha\", \"age\": 10},\n",
        "    \"child2\": {\"name\": \"Bilal\", \"age\": 8}\n",
        "}\n",
        "\n",
        "for x, obj in myfamily.items():\n",
        "  print(x)\n",
        "\n",
        "  for y in obj:\n",
        "    print(y + ':', obj[y])"
      ],
      "metadata": {
        "colab": {
          "base_uri": "https://localhost:8080/"
        },
        "id": "VzfV5-4umyzP",
        "outputId": "f39a9c03-3c1b-4295-ae89-ebfbf84a1c4b"
      },
      "execution_count": 11,
      "outputs": [
        {
          "output_type": "stream",
          "name": "stdout",
          "text": [
            "child1\n",
            "name: Aisha\n",
            "age: 10\n",
            "child2\n",
            "name: Bilal\n",
            "age: 8\n"
          ]
        }
      ]
    },
    {
      "cell_type": "code",
      "source": [
        "# New dictionary\n",
        "\n",
        "myfamily = {\n",
        "  \"child1\": {\"name\": \"Emil\", \"year\": 2004},\n",
        "  \"child2\": {\"name\": \"Tobias\", \"year\": 2007},\n",
        "  \"child3\": {\"name\": \"Linus\", \"year\": 2011}\n",
        "}\n",
        "# The second definition of myfamily is removed as it was causing the NameError\n",
        "\n",
        "# Now you can access the nested dictionaries like this:\n",
        "child1 = myfamily[\"child1\"]\n",
        "child2 = myfamily[\"child2\"]\n",
        "child3 = myfamily[\"child3\"]\n",
        "\n",
        "print(\"My first child:\",child1)\n",
        "print(\"My second child:\",child2)\n",
        "print(\"My third child:\",child3)"
      ],
      "metadata": {
        "colab": {
          "base_uri": "https://localhost:8080/"
        },
        "id": "cnoxBwF6oYfv",
        "outputId": "35fff3e5-b698-486d-e2d2-aff54f409168"
      },
      "execution_count": 15,
      "outputs": [
        {
          "output_type": "stream",
          "name": "stdout",
          "text": [
            "My first child: {'name': 'Emil', 'year': 2004}\n",
            "My second child: {'name': 'Tobias', 'year': 2007}\n",
            "My third child: {'name': 'Linus', 'year': 2011}\n"
          ]
        }
      ]
    },
    {
      "cell_type": "code",
      "source": [
        "# Method 1: Using the copy() Method\n",
        "thisdict = {\n",
        "    \"brand\": \"Ford\",\n",
        "    \"model\": \"Mustang\",\n",
        "    \"year\": 1964\n",
        "}\n",
        "\n",
        "mydict = thisdict.copy()\n",
        "print(mydict)"
      ],
      "metadata": {
        "colab": {
          "base_uri": "https://localhost:8080/"
        },
        "id": "J5LfMtCrpWQX",
        "outputId": "a92407bd-3bc8-4a11-bbf3-265740a80d8a"
      },
      "execution_count": 16,
      "outputs": [
        {
          "output_type": "stream",
          "name": "stdout",
          "text": [
            "{'brand': 'Ford', 'model': 'Mustang', 'year': 1964}\n"
          ]
        }
      ]
    },
    {
      "cell_type": "code",
      "source": [
        "# Method 2: Using the dict() Constructor\n",
        "thisdict = {\n",
        "    \"brand\": \"Ford\",\n",
        "    \"model\": \"Mustang\",\n",
        "    \"year\": 1964\n",
        "}\n",
        "\n",
        "mydict = dict(thisdict)\n",
        "print(mydict)"
      ],
      "metadata": {
        "colab": {
          "base_uri": "https://localhost:8080/"
        },
        "id": "6bgCBn41pbfP",
        "outputId": "a9d55b12-c8cf-4e6d-8119-4e8853e9e90b"
      },
      "execution_count": 17,
      "outputs": [
        {
          "output_type": "stream",
          "name": "stdout",
          "text": [
            "{'brand': 'Ford', 'model': 'Mustang', 'year': 1964}\n"
          ]
        }
      ]
    },
    {
      "cell_type": "code",
      "source": [
        "import copy\n",
        "mydict = copy.deepcopy(thisdict)\n",
        "print(mydict)"
      ],
      "metadata": {
        "colab": {
          "base_uri": "https://localhost:8080/"
        },
        "id": "xBwOJD7Lpo-_",
        "outputId": "548e2927-b4b8-4b7b-a2d9-10e461204775"
      },
      "execution_count": 19,
      "outputs": [
        {
          "output_type": "stream",
          "name": "stdout",
          "text": [
            "{'brand': 'Ford', 'model': 'Mustang', 'year': 1964}\n"
          ]
        }
      ]
    },
    {
      "cell_type": "code",
      "source": [
        "# Example 1: Building a Phonebook\n",
        "# Create a phonebook\n",
        "phonebook: dict = {\n",
        "    \"Abid\": \"123-456-7890\",\n",
        "    \"Bbilal\": \"987-654-3210\",\n",
        "    \"Chaudry\": \"555-555-5555\",\n",
        "    \"Daniyal\": \"458-582-9999\"\n",
        "}\n",
        "\n",
        "# Add a new contact\n",
        "phonebook[\"Ehsan\"] = \"022-525-6444\"\n",
        "\n",
        "# Search for a contact\n",
        "name: str = input(\"Enter a name to search: \")\n",
        "if name in phonebook:\n",
        "    print(f\"{name}'s phone number is {phonebook[name]}.\")\n",
        "else:\n",
        "    print(f\"{name} is not in the phonebook.\")"
      ],
      "metadata": {
        "colab": {
          "base_uri": "https://localhost:8080/"
        },
        "id": "JmDoNEMdpu8f",
        "outputId": "55e656ae-a316-45f3-ca73-82472e42ae67"
      },
      "execution_count": 20,
      "outputs": [
        {
          "output_type": "stream",
          "name": "stdout",
          "text": [
            "Enter a name to search: Abid\n",
            "Abid's phone number is 123-456-7890.\n"
          ]
        }
      ]
    },
    {
      "cell_type": "code",
      "source": [
        "# Create a phonebook\n",
        "phonebook: dict = {\n",
        "    \"Abid\": \"123-456-7890\",\n",
        "    \"Bbilal\": \"987-654-3210\",\n",
        "    \"Chaudry\": \"555-555-5555\",\n",
        "    \"Daniyal\": \"458-582-9999\"\n",
        "}\n",
        "\n",
        "# Add a new contact\n",
        "phonebook[\"Ehsan\"] = \"022-525-6444\"\n",
        "\n",
        "# Search for a contact\n",
        "name: str = input(\"Enter a name to search: \")\n",
        "if name in phonebook:\n",
        "    print(f\"{name}'s phone number is {phonebook[name]}.\")\n",
        "else:\n",
        "    print(f\"{name} is not in the phonebook.\")"
      ],
      "metadata": {
        "colab": {
          "base_uri": "https://localhost:8080/"
        },
        "id": "48NLxKF_p-WP",
        "outputId": "2716629d-77d2-4d53-9ae3-56aaa335914a"
      },
      "execution_count": 21,
      "outputs": [
        {
          "output_type": "stream",
          "name": "stdout",
          "text": [
            "Enter a name to search: Qasim\n",
            "Qasim is not in the phonebook.\n"
          ]
        }
      ]
    },
    {
      "cell_type": "code",
      "source": [
        "#  Example 2: Doubling Dictionary Values\n",
        "original_dict = {'a': 1, 'b': 2, 'c': 3}\n",
        "print(\"original_dict =\", original_dict)\n",
        "\n",
        "doubled_dict = {k: v * 2 for k, v in original_dict.items()}\n",
        "print(\"doubled_dict  =\", doubled_dict)"
      ],
      "metadata": {
        "colab": {
          "base_uri": "https://localhost:8080/"
        },
        "id": "n4uxSd08qEdH",
        "outputId": "9f864033-94e5-40a2-ae5a-dc9cc211c96e"
      },
      "execution_count": 22,
      "outputs": [
        {
          "output_type": "stream",
          "name": "stdout",
          "text": [
            "original_dict = {'a': 1, 'b': 2, 'c': 3}\n",
            "doubled_dict  = {'a': 2, 'b': 4, 'c': 6}\n"
          ]
        }
      ]
    },
    {
      "cell_type": "code",
      "source": [
        "celsius_temps = [0, 10, 20, 30, 40]\n",
        "\n",
        "fahrenheit_temps = {str(c) + \"c\": str((c * 9/5) + 32) + \"f\" for c in celsius_temps}\n",
        "print(fahrenheit_temps)"
      ],
      "metadata": {
        "colab": {
          "base_uri": "https://localhost:8080/"
        },
        "id": "f3rFX0aiqQ-3",
        "outputId": "555e1550-995c-4bd8-9de0-644774775ebe"
      },
      "execution_count": 23,
      "outputs": [
        {
          "output_type": "stream",
          "name": "stdout",
          "text": [
            "{'0c': '32.0f', '10c': '50.0f', '20c': '68.0f', '30c': '86.0f', '40c': '104.0f'}\n"
          ]
        }
      ]
    }
  ]
}