{
  "nbformat": 4,
  "nbformat_minor": 0,
  "metadata": {
    "colab": {
      "provenance": []
    },
    "kernelspec": {
      "name": "python3",
      "display_name": "Python 3"
    },
    "language_info": {
      "name": "python"
    }
  },
  "cells": [
    {
      "cell_type": "markdown",
      "source": [
        "Date: 19-October-2025\n",
        "\n",
        "## Instructor: Ambreen Abdul Raheem\n",
        "### Professional Power BI Data Analyst And AI Agent Developer (Upwork Freelancer)"
      ],
      "metadata": {
        "id": "MC5wX-o6mAXg"
      }
    },
    {
      "cell_type": "markdown",
      "source": [
        "#### Topic: Python Tuple"
      ],
      "metadata": {
        "id": "W9mOXBIamPFI"
      }
    },
    {
      "cell_type": "code",
      "execution_count": 2,
      "metadata": {
        "colab": {
          "base_uri": "https://localhost:8080/"
        },
        "id": "WnsbdgODl5sd",
        "outputId": "3f30c29d-13e7-492f-a86d-94b2bd894c10"
      },
      "outputs": [
        {
          "output_type": "stream",
          "name": "stdout",
          "text": [
            "('apple', 'banana', 'cherry')\n",
            "(10, 20, 30)\n",
            "('hello', 42, 3.14, True)\n"
          ]
        }
      ],
      "source": [
        "# Creating Tuples\n",
        "tuple1 = tuple([\"apple\", \"banana\", \"cherry\"])  # Convert list to tuple\n",
        "tuple2 = (10, 20, 30)                          # Direct tuple creation\n",
        "mixed_tuple = (\"hello\", 42, 3.14, True)        # Different data types\n",
        "print(tuple1)\n",
        "print(tuple2)\n",
        "print(mixed_tuple)"
      ]
    },
    {
      "cell_type": "code",
      "source": [
        "# Tuple Identity and Immutability\n",
        "tuple_1 = (10, 20, 30)\n",
        "tuple_2 = (10, 20, 30)\n",
        "\n",
        "print(\"id(tuple_1) =\", id(tuple_1))\n",
        "print(\"id(tuple_2) =\", id(tuple_2))\n",
        "print(\"tuple_1 == tuple_2 =\", tuple_1 == tuple_2)\n",
        "\n",
        "# Accessing Elements\n",
        "print(\"tuple1[0] =\", tuple1[0])  # Access the first element"
      ],
      "metadata": {
        "colab": {
          "base_uri": "https://localhost:8080/"
        },
        "id": "cPv13YaBmlfA",
        "outputId": "c9d40ee3-2fcd-45aa-e8a7-a5e5e2e71fbb"
      },
      "execution_count": 4,
      "outputs": [
        {
          "output_type": "stream",
          "name": "stdout",
          "text": [
            "id(tuple_1) = 132745212139008\n",
            "id(tuple_2) = 132745213642752\n",
            "tuple_1 == tuple_2 = True\n",
            "tuple1[0] = apple\n"
          ]
        }
      ]
    },
    {
      "cell_type": "code",
      "source": [
        "# Tuple Slicing\n",
        "print(\"tuple2[1:] =\", tuple2[1:])  # Slice from index 1 to the end"
      ],
      "metadata": {
        "colab": {
          "base_uri": "https://localhost:8080/"
        },
        "id": "zZdfFW5lmt9A",
        "outputId": "0286e719-198d-4ec3-ee04-909a2b187516"
      },
      "execution_count": 5,
      "outputs": [
        {
          "output_type": "stream",
          "name": "stdout",
          "text": [
            "tuple2[1:] = (20, 30)\n"
          ]
        }
      ]
    },
    {
      "cell_type": "code",
      "source": [
        "#  Finding Tuple Length\n",
        "print(\"Length of tuple1:\", len(tuple1))"
      ],
      "metadata": {
        "colab": {
          "base_uri": "https://localhost:8080/"
        },
        "id": "1U8SFHqTnDSh",
        "outputId": "431f1f95-6fbb-48b8-fd27-83f09c6e0fd3"
      },
      "execution_count": 6,
      "outputs": [
        {
          "output_type": "stream",
          "name": "stdout",
          "text": [
            "Length of tuple1: 3\n"
          ]
        }
      ]
    },
    {
      "cell_type": "code",
      "source": [
        "#  Iterating Through a Tuple\n",
        "print(\"Iterating through tuple2:\")\n",
        "for item in tuple2:\n",
        "    print(item)"
      ],
      "metadata": {
        "colab": {
          "base_uri": "https://localhost:8080/"
        },
        "id": "2gDbwZ1WnMW4",
        "outputId": "e8094289-912b-4d35-98e2-b60b3292ebe8"
      },
      "execution_count": 7,
      "outputs": [
        {
          "output_type": "stream",
          "name": "stdout",
          "text": [
            "Iterating through tuple2:\n",
            "10\n",
            "20\n",
            "30\n"
          ]
        }
      ]
    },
    {
      "cell_type": "code",
      "source": [
        "#  Checking if an Element Exists\n",
        "print(\"Is 20 in tuple2?\", 20 in tuple2)"
      ],
      "metadata": {
        "colab": {
          "base_uri": "https://localhost:8080/"
        },
        "id": "TmkLZnLJnT9J",
        "outputId": "9458b1d2-8d32-4b6f-ea1a-f4e0cbeb4842"
      },
      "execution_count": 8,
      "outputs": [
        {
          "output_type": "stream",
          "name": "stdout",
          "text": [
            "Is 20 in tuple2? True\n"
          ]
        }
      ]
    },
    {
      "cell_type": "code",
      "source": [
        "# Concatenating Tuples\n",
        "tuple3: tuple = tuple1 + tuple2\n",
        "print(\"tuple1 + tuple2 =\", tuple3)"
      ],
      "metadata": {
        "colab": {
          "base_uri": "https://localhost:8080/"
        },
        "id": "-7B3YI4ynbXg",
        "outputId": "cfc53be2-adde-4cc5-8ebc-d240024d3c75"
      },
      "execution_count": 9,
      "outputs": [
        {
          "output_type": "stream",
          "name": "stdout",
          "text": [
            "tuple1 + tuple2 = ('apple', 'banana', 'cherry', 10, 20, 30)\n"
          ]
        }
      ]
    },
    {
      "cell_type": "code",
      "source": [
        "# Repeating Tuples\n",
        "tuple4: tuple = tuple2 * 2\n",
        "print(\"tuple2 * 2 =\", tuple4)"
      ],
      "metadata": {
        "colab": {
          "base_uri": "https://localhost:8080/"
        },
        "id": "KMxol6Kznl2p",
        "outputId": "0e2c5924-4dd0-488b-ed97-5471d4fbf436"
      },
      "execution_count": 10,
      "outputs": [
        {
          "output_type": "stream",
          "name": "stdout",
          "text": [
            "tuple2 * 2 = (10, 20, 30, 10, 20, 30)\n"
          ]
        }
      ]
    },
    {
      "cell_type": "code",
      "source": [
        "#  Nested Tuples\n",
        "nested_tuple = (tuple1, tuple2)\n",
        "print(\"nested_tuple =\", nested_tuple)"
      ],
      "metadata": {
        "colab": {
          "base_uri": "https://localhost:8080/"
        },
        "id": "a0fRJSjNnuoo",
        "outputId": "d1e2f60f-e1a1-473a-a325-467c08a58d35"
      },
      "execution_count": 12,
      "outputs": [
        {
          "output_type": "stream",
          "name": "stdout",
          "text": [
            "nested_tuple = (('apple', 'banana', 'cherry'), (10, 20, 30))\n"
          ]
        }
      ]
    },
    {
      "cell_type": "code",
      "source": [
        "# Unpacking Tuples\n",
        "a, b, c = tuple1\n",
        "print(\"Unpacking tuple1:\", a, b, c)"
      ],
      "metadata": {
        "colab": {
          "base_uri": "https://localhost:8080/"
        },
        "id": "aPFZ6kN6nzdo",
        "outputId": "01879e2b-c222-416c-b134-d0e75090c367"
      },
      "execution_count": 13,
      "outputs": [
        {
          "output_type": "stream",
          "name": "stdout",
          "text": [
            "Unpacking tuple1: apple banana cherry\n"
          ]
        }
      ]
    },
    {
      "cell_type": "code",
      "source": [
        "# Using Tuples as Dictionary Keys\n",
        "my_dict = {tuple1: \"This is a tuple key\", tuple2: \"Another tuple key\"}\n",
        "print(\"Dictionary with tuple keys:\", my_dict)"
      ],
      "metadata": {
        "colab": {
          "base_uri": "https://localhost:8080/"
        },
        "id": "yxytmpKmn6Eg",
        "outputId": "df86d846-ef01-46de-ab83-6b7dfead38a4"
      },
      "execution_count": 14,
      "outputs": [
        {
          "output_type": "stream",
          "name": "stdout",
          "text": [
            "Dictionary with tuple keys: {('apple', 'banana', 'cherry'): 'This is a tuple key', (10, 20, 30): 'Another tuple key'}\n"
          ]
        }
      ]
    },
    {
      "cell_type": "code",
      "source": [
        "# ⚠️ Attempting to Modify a Tuple\n",
        "# tuple1[0] = \"watermelon\"  # ❌ This will cause an error / Uncomment to test."
      ],
      "metadata": {
        "id": "yUPrBTCIoFMx"
      },
      "execution_count": 15,
      "outputs": []
    }
  ]
}