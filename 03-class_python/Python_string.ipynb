{
  "nbformat": 4,
  "nbformat_minor": 0,
  "metadata": {
    "colab": {
      "provenance": []
    },
    "kernelspec": {
      "name": "python3",
      "display_name": "Python 3"
    },
    "language_info": {
      "name": "python"
    }
  },
  "cells": [
    {
      "cell_type": "markdown",
      "source": [
        "Date:28-September-2025\n",
        "\n",
        "## Instructor: Ambreen Abdul Raheem\n",
        "### Professional Power BI Data Analyst And AI Agent Developer (Upwork Freelancer)"
      ],
      "metadata": {
        "id": "Bwbde67VZzTb"
      }
    },
    {
      "cell_type": "markdown",
      "source": [
        "#### Topic: String"
      ],
      "metadata": {
        "id": "06oykuo7aAHy"
      }
    },
    {
      "cell_type": "code",
      "execution_count": 3,
      "metadata": {
        "colab": {
          "base_uri": "https://localhost:8080/"
        },
        "id": "_237vWmzZxMw",
        "outputId": "84ecdd70-b3b8-4ed7-fcf9-f7f32b62956a"
      },
      "outputs": [
        {
          "output_type": "stream",
          "name": "stdout",
          "text": [
            "Hello ambreen\n"
          ]
        }
      ],
      "source": [
        "# Storing strring in variables\n",
        "name = 'ambreen'\n",
        "greetings = \"Hello\"\n",
        "print(greetings,name)"
      ]
    },
    {
      "cell_type": "code",
      "source": [
        "# Quotes Inside Quotes\n",
        "print(\"It's my car.\")\n",
        "print(\"I am working with 'Ahmed'.\")\n",
        "print('\"Tehreem\" is my friend.')"
      ],
      "metadata": {
        "colab": {
          "base_uri": "https://localhost:8080/"
        },
        "id": "jPm-Bh3KaNmB",
        "outputId": "42250bcb-22be-4efc-cf94-cea1b83c6b3e"
      },
      "execution_count": 4,
      "outputs": [
        {
          "output_type": "stream",
          "name": "stdout",
          "text": [
            "It's my car.\n",
            "I am working with 'Ahmed'.\n",
            "\"Tehreem\" is my friend.\n"
          ]
        }
      ]
    },
    {
      "cell_type": "code",
      "source": [
        "# Multiline Strings\n",
        "# Double Quotes\n",
        "intro = \"\"\"Hi, this is ambreen.\n",
        "I am teaching Python from the basic to the advanced level.\n",
        "I am a Data Analyst.\"\"\"\n",
        "print(intro)\n",
        "\n",
        "# single Quotes\n",
        "intro = '''Hi, this is ambreen.\n",
        "I am teaching Python from the basic to the advanced level.\n",
        "I am a Data Analyst.'''\n",
        "print(intro)\n"
      ],
      "metadata": {
        "colab": {
          "base_uri": "https://localhost:8080/"
        },
        "id": "OkDu8R-1annh",
        "outputId": "b1bb7455-3ae9-433f-92f3-d0c3114dd804"
      },
      "execution_count": 6,
      "outputs": [
        {
          "output_type": "stream",
          "name": "stdout",
          "text": [
            "Hi, this is ambreen.\n",
            "I am teaching Python from the basic to the advanced level.\n",
            "I am a Data Analyst.\n",
            "Hi, this is ambreen.\n",
            "I am teaching Python from the basic to the advanced level.\n",
            "I am a Data Analyst.\n"
          ]
        }
      ]
    },
    {
      "cell_type": "code",
      "source": [
        "# F-Strings in Python\n",
        "# Example 01\n",
        "age = 36\n",
        "txt = f\"My name is John, I am {age}\"\n",
        "print(txt)\n",
        "# Example 02\n",
        "price = 59\n",
        "txt = f\"The price is {price} dollars\"\n",
        "print(txt)\n",
        "# Example 03\n",
        "txt = f\"The price is {20 * 59} dollars\"\n",
        "print(txt)"
      ],
      "metadata": {
        "colab": {
          "base_uri": "https://localhost:8080/"
        },
        "id": "egHplvzDaxUC",
        "outputId": "e2229a5b-8510-479d-c109-5ced2cc9bdd5"
      },
      "execution_count": 10,
      "outputs": [
        {
          "output_type": "stream",
          "name": "stdout",
          "text": [
            "My name is John, I am 36\n",
            "The price is 59 dollars\n",
            "The price is 1180 dollars\n"
          ]
        }
      ]
    }
  ]
}