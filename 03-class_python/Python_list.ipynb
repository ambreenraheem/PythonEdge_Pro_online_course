{
  "nbformat": 4,
  "nbformat_minor": 0,
  "metadata": {
    "colab": {
      "provenance": []
    },
    "kernelspec": {
      "name": "python3",
      "display_name": "Python 3"
    },
    "language_info": {
      "name": "python"
    }
  },
  "cells": [
    {
      "cell_type": "markdown",
      "source": [
        "Date: 19-October-2025\n",
        "## Instructor: Ambreen Abdul Raheem\n",
        "### Professional Power BI Data Analyst And AI Agent Developer (Upwork Freelancer)"
      ],
      "metadata": {
        "id": "9HxaDjNK-hoN"
      }
    },
    {
      "cell_type": "markdown",
      "source": [
        "#### Topic: 01. Python List"
      ],
      "metadata": {
        "id": "cag6esM_-3Wr"
      }
    },
    {
      "cell_type": "code",
      "execution_count": null,
      "metadata": {
        "colab": {
          "base_uri": "https://localhost:8080/"
        },
        "id": "fSf8vtE0-dHH",
        "outputId": "f74846db-1496-46ac-bc1a-58f66e0dc85b"
      },
      "outputs": [
        {
          "output_type": "stream",
          "name": "stdout",
          "text": [
            "['apple', 'banana', 'cherry']\n"
          ]
        }
      ],
      "source": [
        "# Creating a list\n",
        "fruits = [\"apple\", \"banana\", \"cherry\"]\n",
        "print(fruits)"
      ]
    },
    {
      "cell_type": "code",
      "source": [
        "# Allow Duplicates\n",
        "fruits = [\"apple\", \"banana\", \"cherry\", \"apple\", \"cherry\"]\n",
        "print(fruits)"
      ],
      "metadata": {
        "colab": {
          "base_uri": "https://localhost:8080/"
        },
        "id": "IAidOYkf_VLS",
        "outputId": "0d7f11aa-e71e-488d-b4ea-f00e87991f67"
      },
      "execution_count": null,
      "outputs": [
        {
          "output_type": "stream",
          "name": "stdout",
          "text": [
            "['apple', 'banana', 'cherry', 'apple', 'cherry']\n"
          ]
        }
      ]
    },
    {
      "cell_type": "code",
      "source": [
        "# List Length\n",
        "fruits = [\"apple\", \"banana\", \"cherry\"]\n",
        "print(len(fruits))"
      ],
      "metadata": {
        "colab": {
          "base_uri": "https://localhost:8080/"
        },
        "id": "LES-iETJ_n64",
        "outputId": "cd8f8689-3924-47d2-8163-035720a0e1a6"
      },
      "execution_count": null,
      "outputs": [
        {
          "output_type": "stream",
          "name": "stdout",
          "text": [
            "3\n"
          ]
        }
      ]
    },
    {
      "cell_type": "code",
      "source": [
        "# List Items – Data Types\n",
        "list1 = [\"apple\", \"banana\", \"cherry\"]      # String list\n",
        "list2 = [1, 5, 7, 9, 3]                   # Integer list\n",
        "list3 = [True, False, False]             # Boolean list\n",
        "list4 = [\"hello\", 25, True, 5.6]         # Mixed list (You can even mix different data types in a single list)\n",
        "print(\"Fruits:\",list1)\n",
        "print(\"Numbers:\",list2)\n",
        "print(\"Booleans:\",list3)\n",
        "print(\"Mixed:\", list4)"
      ],
      "metadata": {
        "colab": {
          "base_uri": "https://localhost:8080/"
        },
        "id": "l5tSXxmc_s45",
        "outputId": "2d2faa01-91fc-40d4-fe0c-a2f8bd18037b"
      },
      "execution_count": null,
      "outputs": [
        {
          "output_type": "stream",
          "name": "stdout",
          "text": [
            "Fruits: ['apple', 'banana', 'cherry']\n",
            "Numbers: [1, 5, 7, 9, 3]\n",
            "Booleans: [True, False, False]\n",
            "Mixed: ['hello', 25, True, 5.6]\n"
          ]
        }
      ]
    },
    {
      "cell_type": "code",
      "source": [
        "# Accessing List Elements\n",
        "fruits = [\"apple\", \"banana\", \"cherry\"]\n",
        "print(fruits[0])    # Output: apple  → first element\n",
        "print(fruits[-3])   # Output: apple  → accessed from the end"
      ],
      "metadata": {
        "colab": {
          "base_uri": "https://localhost:8080/"
        },
        "id": "VW9e5suo_8TF",
        "outputId": "ff0e7fa8-8379-4de0-e4a0-338396e7b589"
      },
      "execution_count": null,
      "outputs": [
        {
          "output_type": "stream",
          "name": "stdout",
          "text": [
            "apple\n",
            "apple\n"
          ]
        }
      ]
    },
    {
      "cell_type": "code",
      "source": [
        "# Modifying Lists\n",
        "fruits = [\"apple\", \"banana\", \"cherry\"]\n",
        "fruits[-3] = \"watermelon\"   # Replace \"apple\" with \"watermelon\"\n",
        "print(\"I modify my List of fruits:\", fruits)\n",
        "\n",
        "students = [\"Faiza\", \"Ahmed\", \"Ali\"]\n",
        "students[-2] = \"Ambreen\"      # Replace \"Ahmed\" with \"Ambreen\"\n",
        "print(\"I modify my List of students:\",students)"
      ],
      "metadata": {
        "colab": {
          "base_uri": "https://localhost:8080/"
        },
        "id": "Rb9zMrnYAITw",
        "outputId": "630f7384-66ca-4896-f0e8-e8356acc6e79"
      },
      "execution_count": null,
      "outputs": [
        {
          "output_type": "stream",
          "name": "stdout",
          "text": [
            "I modify my List of fruits: ['watermelon', 'banana', 'cherry']\n",
            "I modify my List of students: ['Faiza', 'Ambreen', 'Ali']\n"
          ]
        }
      ]
    },
    {
      "cell_type": "markdown",
      "source": [
        "#### 02. Common List Methods"
      ],
      "metadata": {
        "id": "JJIp57H8LJh5"
      }
    },
    {
      "cell_type": "code",
      "source": [
        "# Appending and Extending Lists\n",
        "fruits = [\"watermelon\", \"banana\", \"cherry\"]\n",
        "\n",
        "fruits.append(\"mango\")  # Adds a single item to the end\n",
        "print(\"Adds a single item to the end:\", fruits)\n",
        "\n",
        "students = [\"Faiza\", \"Ahmed\", \"Ali\"]\n",
        "\n",
        "students.append(\"Usman\")\n",
        "print(\"Adds a single item to the end:\", students)"
      ],
      "metadata": {
        "colab": {
          "base_uri": "https://localhost:8080/"
        },
        "id": "iV7RxyNCK8No",
        "outputId": "182a7cf1-0c5e-4398-8326-7945f7e9ba2c"
      },
      "execution_count": 8,
      "outputs": [
        {
          "output_type": "stream",
          "name": "stdout",
          "text": [
            "Adds a single item to the end: ['watermelon', 'banana', 'cherry', 'mango']\n",
            "Adds a single item to the end: ['Faiza', 'Ahmed', 'Ali', 'Usman']\n"
          ]
        }
      ]
    },
    {
      "cell_type": "code",
      "source": [
        "# Expend: To add multiple elements at once, use extend():\n",
        "\n",
        "fruits.extend([\"grape\", \"kiwi\"])\n",
        "print(\"I extend two more fruits:\", fruits)\n",
        "\n",
        "students.extend([\"Fazal\", \"Raheem\"])\n",
        "print(\"I extend two more students name:\", students)"
      ],
      "metadata": {
        "colab": {
          "base_uri": "https://localhost:8080/"
        },
        "id": "5AD48vAhLrCP",
        "outputId": "4e066a10-efa8-4ceb-96fb-05b8ed6261b9"
      },
      "execution_count": 9,
      "outputs": [
        {
          "output_type": "stream",
          "name": "stdout",
          "text": [
            "I extend two more fruits: ['watermelon', 'banana', 'cherry', 'mango', 'grape', 'kiwi']\n",
            "I extend two more students name: ['Faiza', 'Ahmed', 'Ali', 'Usman', 'Fazal', 'Raheem']\n"
          ]
        }
      ]
    },
    {
      "cell_type": "code",
      "source": [
        "# Join Two Lists\n",
        "list1 = [\"a\", \"b\", \"c\"]\n",
        "list2 = [1, 2, 3]\n",
        "\n",
        "list3 = list1 + list2\n",
        "print(list3)\n",
        "\n",
        "# Append (means join) list2 into list1:\n",
        "list1 = [\"a\", \"b\" , \"c\"]\n",
        "list2 = [1, 2, 3]\n",
        "\n",
        "for x in list2:\n",
        "  list1.append(x)\n",
        "\n",
        "print(list1)"
      ],
      "metadata": {
        "colab": {
          "base_uri": "https://localhost:8080/"
        },
        "id": "bGQsW6k4L5mS",
        "outputId": "71fef5db-a579-40e9-e4b4-7a6736bd8c0e"
      },
      "execution_count": 11,
      "outputs": [
        {
          "output_type": "stream",
          "name": "stdout",
          "text": [
            "['a', 'b', 'c', 1, 2, 3]\n",
            "['a', 'b', 'c', 1, 2, 3]\n"
          ]
        }
      ]
    },
    {
      "cell_type": "code",
      "source": [
        "# Removing Elements\n",
        "fruits = ['watermelon', 'banana', 'cherry', 'mango', 'grape', 'kiwi']\n",
        "fruits.remove(\"banana\")  # Removes 'banana' from the list\n",
        "print(\"I deleted 'banana' from the fruits list\", fruits)\n",
        "\n",
        "students = ['Faiza', 'Ambreen', 'Ali','Fiza Ali']\n",
        "students.remove(\"Ambreen\")\n",
        "print(\"I deleted 'Ambreen' from the students list\", students)"
      ],
      "metadata": {
        "colab": {
          "base_uri": "https://localhost:8080/"
        },
        "id": "nwxvh4wsMPGq",
        "outputId": "31e4774a-1209-4fe7-9f43-7be9ab9992a7"
      },
      "execution_count": 25,
      "outputs": [
        {
          "output_type": "stream",
          "name": "stdout",
          "text": [
            "I deleted 'banana' from the fruits list ['watermelon', 'cherry', 'mango', 'grape', 'kiwi']\n",
            "I deleted 'Ambreen' from the students list ['Faiza', 'Ali', 'Fiza Ali']\n"
          ]
        }
      ]
    },
    {
      "cell_type": "code",
      "source": [
        "# pop() Method\n",
        "\n",
        "deleted = fruits.pop(1)  # Removes the element at index 1\n",
        "print(\"Deleted element:\", deleted)\n",
        "print(\"I deleted one item (cherry) from the list of fruits with 'pop() method'\", fruits)\n",
        "\n",
        "deleted = students.pop(2)  # Removes the element at index 1\n",
        "print(\"Deleted element:\", deleted)\n",
        "print(\"I deleted one item (Fiza Ali) from the list of students with 'pop() method'\", students)"
      ],
      "metadata": {
        "colab": {
          "base_uri": "https://localhost:8080/"
        },
        "id": "9NSiqoyYNCfC",
        "outputId": "7f625a48-7504-4f4e-c32d-6e553fdf35b3"
      },
      "execution_count": 26,
      "outputs": [
        {
          "output_type": "stream",
          "name": "stdout",
          "text": [
            "Deleted element: cherry\n",
            "I deleted one item (cherry) from the list of fruits with 'pop() method' ['watermelon', 'mango', 'grape', 'kiwi']\n",
            "Deleted element: Fiza Ali\n",
            "I deleted one item (Fiza Ali) from the list of students with 'pop() method' ['Faiza', 'Ali']\n"
          ]
        }
      ]
    },
    {
      "cell_type": "code",
      "source": [
        "# Sorting a List /  Default Sorting (Ascending Order) or Descending Order (reverse=True)\n",
        "numbers = [3, 1, 4, 1, 5, 9]\n",
        "numbers.sort()\n",
        "print(\"I sort a number of list in ascending order:\", numbers)\n",
        "\n",
        "numbers = [4, 2, 9, 1]\n",
        "numbers.sort(reverse=True)\n",
        "print(\"I sort a number of list in descending order:\", numbers)\n",
        "\n",
        "numbers = [1, 2, 5, 7, 10]\n",
        "numbers.reverse()\n",
        "print(\"Reverse the list of numbers:\", numbers)"
      ],
      "metadata": {
        "colab": {
          "base_uri": "https://localhost:8080/"
        },
        "id": "N4R_qLKGOjLl",
        "outputId": "f3736858-ffff-46ff-d73a-e34afd48aac6"
      },
      "execution_count": 31,
      "outputs": [
        {
          "output_type": "stream",
          "name": "stdout",
          "text": [
            "I sort a number of list in ascending order: [1, 1, 3, 4, 5, 9]\n",
            "I sort a number of list in descending order: [9, 4, 2, 1]\n",
            "Reverse the list of numbers: [10, 7, 5, 2, 1]\n"
          ]
        }
      ]
    },
    {
      "cell_type": "code",
      "source": [
        " # Sort by String Length (key=len)\n",
        "words = [\"apple\", \"kiwi\", \"banana\"]\n",
        "words.sort(key=len)\n",
        "print(\"I sort the list of fruits name by string length:\", words)\n",
        "\n",
        "# Sort by Last Character\n",
        "words = [\"apple\", \"kiwi\", \"banana\"]\n",
        "words.sort(key=lambda word: word[-1])\n",
        "print(\"I sort the list of fruits name by string length in descending order:\", words)"
      ],
      "metadata": {
        "colab": {
          "base_uri": "https://localhost:8080/"
        },
        "id": "IP8MA4fKOtb6",
        "outputId": "20d782ea-e0a0-4bb8-d529-a4f806ca72fb"
      },
      "execution_count": 29,
      "outputs": [
        {
          "output_type": "stream",
          "name": "stdout",
          "text": [
            "I sort the list of fruits name by string length: ['kiwi', 'apple', 'banana']\n",
            "I sort the list of fruits name by string length in descending order: ['banana', 'apple', 'kiwi']\n"
          ]
        }
      ]
    },
    {
      "cell_type": "markdown",
      "source": [
        "### Python - Loop Lists"
      ],
      "metadata": {
        "id": "cxSrcHR9PgKE"
      }
    },
    {
      "cell_type": "code",
      "source": [
        " # Iterating Over Lists\n",
        "toys = [\"car\", \"doll\", \"ball\"]\n",
        "for toy in toys:\n",
        "    print(\"I picked my\",toy)\n",
        "\n",
        "fruits = [\"I like to eat apple\", \"I like to eat banana\", \"I like to eat cherry\"]\n",
        "for x in fruits:\n",
        "  print(\"Yes,\",x)\n",
        ""
      ],
      "metadata": {
        "colab": {
          "base_uri": "https://localhost:8080/"
        },
        "id": "1Dk-UMGxPd7-",
        "outputId": "0fe54509-65a1-49c1-9f7a-e2c4aafe5f13"
      },
      "execution_count": 38,
      "outputs": [
        {
          "output_type": "stream",
          "name": "stdout",
          "text": [
            "I picked my car\n",
            "I picked my doll\n",
            "I picked my ball\n",
            "Yes, I like to eat apple\n",
            "Yes, I like to eat banana\n",
            "Yes, I like to eat cherry\n"
          ]
        }
      ]
    },
    {
      "cell_type": "code",
      "source": [
        "# Loop Using Index Numbers\n",
        "fruits = [\"apple\", \"banana\", \"cherry\"]\n",
        "for i in range(len(fruits)):\n",
        "  print(fruits[i])"
      ],
      "metadata": {
        "colab": {
          "base_uri": "https://localhost:8080/"
        },
        "id": "W6aUuPSAP3O3",
        "outputId": "6e369424-5908-43d8-bf56-27a174a082c6"
      },
      "execution_count": 39,
      "outputs": [
        {
          "output_type": "stream",
          "name": "stdout",
          "text": [
            "apple\n",
            "banana\n",
            "cherry\n"
          ]
        }
      ]
    },
    {
      "cell_type": "code",
      "source": [
        "# Using a While Loop\n",
        "fruits = [\"apple\", \"banana\", \"cherry\"]\n",
        "i = 0\n",
        "while i < len(fruits):\n",
        "  print(fruits[i])\n",
        "  i = i + 1"
      ],
      "metadata": {
        "colab": {
          "base_uri": "https://localhost:8080/"
        },
        "id": "2MXRyuuxTNW2",
        "outputId": "d5ead8dd-e920-4b56-aa55-078840eabeda"
      },
      "execution_count": 40,
      "outputs": [
        {
          "output_type": "stream",
          "name": "stdout",
          "text": [
            "apple\n",
            "banana\n",
            "cherry\n"
          ]
        }
      ]
    },
    {
      "cell_type": "code",
      "source": [
        "# List Comprehension / Without List Comprehension\n",
        "fruits = [\"apple\", \"banana\", \"cherry\", \"kiwi\", \"mango\"]\n",
        "newlist = []\n",
        "\n",
        "for x in fruits:\n",
        "  if \"a\" in x:\n",
        "    newlist.append(x)\n",
        "\n",
        "print(newlist)"
      ],
      "metadata": {
        "colab": {
          "base_uri": "https://localhost:8080/"
        },
        "id": "9riTDTjgTdhy",
        "outputId": "c138e862-bae9-4265-988a-7f6c3105119b"
      },
      "execution_count": 42,
      "outputs": [
        {
          "output_type": "stream",
          "name": "stdout",
          "text": [
            "['apple', 'banana', 'mango']\n"
          ]
        }
      ]
    },
    {
      "cell_type": "code",
      "source": [
        "# With List Comprehension\n",
        "fruits = [\"apple\", \"banana\", \"cherry\", \"kiwi\", \"mango\"]\n",
        "\n",
        "newlist = [x for x in fruits if \"a\" in x]\n",
        "print(newlist)"
      ],
      "metadata": {
        "colab": {
          "base_uri": "https://localhost:8080/"
        },
        "id": "-r4BRgLoTqEZ",
        "outputId": "6831361d-d955-40e8-c215-ffe238f3880c"
      },
      "execution_count": 44,
      "outputs": [
        {
          "output_type": "stream",
          "name": "stdout",
          "text": [
            "['apple', 'banana', 'mango']\n"
          ]
        }
      ]
    },
    {
      "cell_type": "code",
      "source": [
        "# Short Hand For Loop\n",
        "fruits = [\"apple\", \"banana\", \"cherry\"]\n",
        "[print(x) for x in fruits]"
      ],
      "metadata": {
        "colab": {
          "base_uri": "https://localhost:8080/"
        },
        "id": "t7AbUIanT8fU",
        "outputId": "58cbc7bd-aced-4350-ffa9-49c34696694b"
      },
      "execution_count": 45,
      "outputs": [
        {
          "output_type": "stream",
          "name": "stdout",
          "text": [
            "apple\n",
            "banana\n",
            "cherry\n"
          ]
        },
        {
          "output_type": "execute_result",
          "data": {
            "text/plain": [
              "[None, None, None]"
            ]
          },
          "metadata": {},
          "execution_count": 45
        }
      ]
    },
    {
      "cell_type": "markdown",
      "source": [
        "#### Copying a List in Python"
      ],
      "metadata": {
        "id": "-R-5oPuKUMuG"
      }
    },
    {
      "cell_type": "code",
      "source": [
        "# Example # 01\n",
        "list1 = [\"apple\", \"banana\", \"cherry\"]\n",
        "list2 = list1\n",
        "print(list2)\n"
      ],
      "metadata": {
        "colab": {
          "base_uri": "https://localhost:8080/"
        },
        "id": "wnH-m3FcUGiJ",
        "outputId": "dd01fd9c-3fc7-4720-fce0-f3e33d36406d"
      },
      "execution_count": 50,
      "outputs": [
        {
          "output_type": "stream",
          "name": "stdout",
          "text": [
            "['apple', 'banana', 'cherry']\n"
          ]
        }
      ]
    },
    {
      "cell_type": "code",
      "source": [
        "# Example # 02\n",
        "fruits = [\"apple\", \"banana\", \"cherry\"]\n",
        "mylist = fruits.copy()\n",
        "print(mylist)"
      ],
      "metadata": {
        "colab": {
          "base_uri": "https://localhost:8080/"
        },
        "id": "yot8XzkmUf3H",
        "outputId": "8c7a5c20-b8d2-487b-ff95-76a0f6ec8dae"
      },
      "execution_count": 51,
      "outputs": [
        {
          "output_type": "stream",
          "name": "stdout",
          "text": [
            "['apple', 'banana', 'cherry']\n"
          ]
        }
      ]
    },
    {
      "cell_type": "code",
      "source": [
        "# Example # 03\n",
        "fruits = [\"apple\", \"banana\", \"cherry\"]\n",
        "mylist = list(fruits)\n",
        "print(mylist)"
      ],
      "metadata": {
        "colab": {
          "base_uri": "https://localhost:8080/"
        },
        "id": "RBLk_Ud1UjrP",
        "outputId": "91103eae-3dc2-456a-89db-7746512e0e4e"
      },
      "execution_count": 52,
      "outputs": [
        {
          "output_type": "stream",
          "name": "stdout",
          "text": [
            "['apple', 'banana', 'cherry']\n"
          ]
        }
      ]
    }
  ]
}