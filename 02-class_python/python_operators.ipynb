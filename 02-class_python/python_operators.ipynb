{
  "nbformat": 4,
  "nbformat_minor": 0,
  "metadata": {
    "colab": {
      "provenance": []
    },
    "kernelspec": {
      "name": "python3",
      "display_name": "Python 3"
    },
    "language_info": {
      "name": "python"
    }
  },
  "cells": [
    {
      "cell_type": "markdown",
      "source": [
        "## INSTRUCTOR: AMBREEN ABDUL RAHEEM\n",
        "## COURSE: PythonEge Pro\n",
        "## Topic: Operators\n",
        "## Exercise # 01-(For practice):"
      ],
      "metadata": {
        "id": "R59xhJWAQwWj"
      }
    },
    {
      "cell_type": "markdown",
      "source": [
        "#### PEMDAS: The PEMDAS rule gives us the correct sequence for solving a mathematical expression. In the PEMDAS rule, operations are performd in parenthesis first. Next operations are performed on exponents or powers. This is followed by the operations of multiplication or division from left to right, whichever comes first."
      ],
      "metadata": {
        "id": "_fuRVcIjSl10"
      }
    },
    {
      "cell_type": "markdown",
      "source": [
        "### PEMDAS:\n",
        "- P - Parenthesis, ()\n",
        "- E - Exponents, A2\n",
        "- M - Multiplication, *\n",
        "- D - Division, /\n",
        "- A - Addition, +\n",
        "- S - Subtraction, -"
      ],
      "metadata": {
        "id": "B3mXYdKStN2D"
      }
    },
    {
      "cell_type": "markdown",
      "source": [
        "In any question first solve () then A2 square then X and / devide, after that + and -"
      ],
      "metadata": {
        "id": "gfkeN40T0XMT"
      }
    },
    {
      "cell_type": "markdown",
      "source": [
        "### 1. Arithmetic Operators"
      ],
      "metadata": {
        "id": "7-HWvDCcsKKL"
      }
    },
    {
      "cell_type": "code",
      "execution_count": null,
      "metadata": {
        "colab": {
          "base_uri": "https://localhost:8080/"
        },
        "id": "8tCDXiZ-Qrcx",
        "outputId": "b59fe1fb-6ed0-4935-c751-0822d1ae82e1"
      },
      "outputs": [
        {
          "output_type": "stream",
          "name": "stdout",
          "text": [
            "81.0\n"
          ]
        }
      ],
      "source": [
        "x = 45\n",
        "y = 98\n",
        "z = 100\n",
        "average = (x + y + z) / 3\n",
        "print(average)"
      ]
    },
    {
      "cell_type": "code",
      "source": [
        "a = 58\n",
        "b = 96\n",
        "c = 100\n",
        "add= (a + b + c)\n",
        "print(add)"
      ],
      "metadata": {
        "colab": {
          "base_uri": "https://localhost:8080/"
        },
        "id": "VbBKF0MsSCwk",
        "outputId": "51e0295f-6ff0-443a-cbab-a51d9adbe890"
      },
      "execution_count": null,
      "outputs": [
        {
          "output_type": "stream",
          "name": "stdout",
          "text": [
            "254\n"
          ]
        }
      ]
    },
    {
      "cell_type": "code",
      "source": [
        "e = 88\n",
        "f = 99\n",
        "g = 10\n",
        "sub = (e - f - g)\n",
        "print(sub)"
      ],
      "metadata": {
        "colab": {
          "base_uri": "https://localhost:8080/"
        },
        "id": "A0xDzMFVSW71",
        "outputId": "6b79b98a-8843-4710-ff86-15a9ab81e594"
      },
      "execution_count": null,
      "outputs": [
        {
          "output_type": "stream",
          "name": "stdout",
          "text": [
            "-21\n"
          ]
        }
      ]
    },
    {
      "cell_type": "code",
      "source": [
        "o = 88\n",
        "p = 99\n",
        "q = 1000\n",
        "mul = (o * p + q)\n",
        "print(mul)"
      ],
      "metadata": {
        "colab": {
          "base_uri": "https://localhost:8080/"
        },
        "id": "C5U9NUCWSd7L",
        "outputId": "73f535a7-5dfb-4cdd-c613-90a0b83b2dac"
      },
      "execution_count": null,
      "outputs": [
        {
          "output_type": "stream",
          "name": "stdout",
          "text": [
            "9712\n"
          ]
        }
      ]
    },
    {
      "cell_type": "code",
      "source": [
        "m = 980\n",
        "n = 99\n",
        "o = 20\n",
        "div = (m / n + o)\n",
        "print(div)"
      ],
      "metadata": {
        "id": "S0uMwgR1SikD",
        "colab": {
          "base_uri": "https://localhost:8080/"
        },
        "outputId": "d516b169-7437-4d7e-e14c-3e5749eafbb6"
      },
      "execution_count": null,
      "outputs": [
        {
          "output_type": "stream",
          "name": "stdout",
          "text": [
            "29.8989898989899\n"
          ]
        }
      ]
    },
    {
      "cell_type": "code",
      "source": [
        "s = 532\n",
        "t = 98\n",
        "u = 33\n",
        "mod = (s % t + u)\n",
        "print(mod)"
      ],
      "metadata": {
        "colab": {
          "base_uri": "https://localhost:8080/"
        },
        "id": "jKlInndxwa7s",
        "outputId": "e7647773-4dc9-4fee-c2fc-8bc19d7edc21"
      },
      "execution_count": null,
      "outputs": [
        {
          "output_type": "stream",
          "name": "stdout",
          "text": [
            "75\n"
          ]
        }
      ]
    },
    {
      "cell_type": "code",
      "source": [
        "a = 10\n",
        "b = 3\n",
        "\n",
        "print(a + b)  # Addition → 13\n",
        "print(a - b)  # Subtraction → 7\n",
        "print(a * b)  # Multiplication → 30\n",
        "print(a / b)  # Division → 3.333...\n",
        "print(a // b) # Floor Division → 3\n",
        "print(a % b)  # Modulus (Remainder) → 1\n",
        "print(a ** b) # Exponentiation → 1000\n"
      ],
      "metadata": {
        "colab": {
          "base_uri": "https://localhost:8080/"
        },
        "id": "8q2egZx_0BiV",
        "outputId": "ee1a4ec0-4ecb-4cec-a3eb-b75470d6d0ac"
      },
      "execution_count": null,
      "outputs": [
        {
          "output_type": "stream",
          "name": "stdout",
          "text": [
            "13\n",
            "7\n",
            "30\n",
            "3.3333333333333335\n",
            "3\n",
            "1\n",
            "1000\n"
          ]
        }
      ]
    },
    {
      "cell_type": "markdown",
      "source": [
        "### 2. Comparison Operators"
      ],
      "metadata": {
        "id": "zH0TL88M09hj"
      }
    },
    {
      "cell_type": "code",
      "source": [
        "x = 5\n",
        "y = 10\n",
        "\n",
        "print(x == y)  # Equal → False\n",
        "print(x != y)  # Not Equal → True\n",
        "print(x > y)   # Greater → False\n",
        "print(x < y)   # Less → True\n",
        "print(x >= 5)  # Greater or Equal → True\n",
        "print(y <= 10) # Less or Equal → True\n"
      ],
      "metadata": {
        "colab": {
          "base_uri": "https://localhost:8080/"
        },
        "id": "3kwZxwkB04B0",
        "outputId": "272a29d6-e0b0-4a29-f556-1761345c3a89"
      },
      "execution_count": null,
      "outputs": [
        {
          "output_type": "stream",
          "name": "stdout",
          "text": [
            "False\n",
            "True\n",
            "False\n",
            "True\n",
            "True\n",
            "True\n"
          ]
        }
      ]
    },
    {
      "cell_type": "markdown",
      "source": [
        "### 3. Logical Operators"
      ],
      "metadata": {
        "id": "xspeowlL1UVc"
      }
    },
    {
      "cell_type": "code",
      "source": [
        "p = True\n",
        "q = False\n",
        "\n",
        "print(p and q)  # AND → False\n",
        "print(p or q)   # OR → True\n",
        "print(not p)    # NOT → False\n"
      ],
      "metadata": {
        "colab": {
          "base_uri": "https://localhost:8080/"
        },
        "id": "hwmInadn1IqD",
        "outputId": "ed91d42c-47d4-46c6-9e39-bed95aa25288"
      },
      "execution_count": null,
      "outputs": [
        {
          "output_type": "stream",
          "name": "stdout",
          "text": [
            "False\n",
            "True\n",
            "False\n"
          ]
        }
      ]
    },
    {
      "cell_type": "markdown",
      "source": [
        "4. Assignment Operators"
      ],
      "metadata": {
        "id": "SQcm5AJB1fMj"
      }
    },
    {
      "cell_type": "code",
      "source": [
        "num = 10\n",
        "\n",
        "num += 5  # num = num + 5 → 15\n",
        "num -= 3  # num = num - 3 → 12\n",
        "num *= 2  # num = num * 2 → 24\n",
        "num /= 4  # num = num / 4 → 6.0\n",
        "num %= 5  # num = num % 5 → 1.0"
      ],
      "metadata": {
        "id": "-61hbtzK1jVt"
      },
      "execution_count": null,
      "outputs": []
    },
    {
      "cell_type": "markdown",
      "source": [
        "### 5. Membership Operators"
      ],
      "metadata": {
        "id": "cw9hhgIj1rnT"
      }
    },
    {
      "cell_type": "code",
      "source": [
        "fruits = [\"apple\", \"banana\", \"cherry\"]\n",
        "\n",
        "print(\"apple\" in fruits)   # True\n",
        "print(\"mango\" not in fruits)  # True"
      ],
      "metadata": {
        "colab": {
          "base_uri": "https://localhost:8080/"
        },
        "id": "J2w6faJz1xJT",
        "outputId": "303bd61f-3cf3-4e90-a9b6-0d9cb0b04c9b"
      },
      "execution_count": null,
      "outputs": [
        {
          "output_type": "stream",
          "name": "stdout",
          "text": [
            "True\n",
            "True\n"
          ]
        }
      ]
    },
    {
      "cell_type": "markdown",
      "source": [
        "### 6. Identity Operators"
      ],
      "metadata": {
        "id": "JKWyG_7r10kb"
      }
    },
    {
      "cell_type": "code",
      "source": [
        "a = [1, 2, 3]\n",
        "b = a\n",
        "c = [1, 2, 3]\n",
        "\n",
        "print(a is b)   # True (same object in memory)\n",
        "print(a is c)   # False (values same but objects different)\n",
        "print(a is not c) # True"
      ],
      "metadata": {
        "colab": {
          "base_uri": "https://localhost:8080/"
        },
        "id": "VRUFdvi_14nD",
        "outputId": "5560df40-2883-4f4d-86ce-a20817a5b9b6"
      },
      "execution_count": null,
      "outputs": [
        {
          "output_type": "stream",
          "name": "stdout",
          "text": [
            "True\n",
            "False\n",
            "True\n"
          ]
        }
      ]
    }
  ]
}