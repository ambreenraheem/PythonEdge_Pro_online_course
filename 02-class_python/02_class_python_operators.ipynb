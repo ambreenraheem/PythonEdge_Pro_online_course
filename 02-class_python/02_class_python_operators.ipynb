{
  "nbformat": 4,
  "nbformat_minor": 0,
  "metadata": {
    "colab": {
      "provenance": []
    },
    "kernelspec": {
      "name": "python3",
      "display_name": "Python 3"
    },
    "language_info": {
      "name": "python"
    }
  },
  "cells": [
    {
      "cell_type": "markdown",
      "source": [
        "## INSTRUCTOR: AMBREEN ABDUL RAHEEM\n",
        "## COURSE: PythonEge Pro\n",
        "## Topic: Operators\n",
        "## Exercise # 01-(For practice):"
      ],
      "metadata": {
        "id": "R59xhJWAQwWj"
      }
    },
    {
      "cell_type": "markdown",
      "source": [
        "#### PEMDAS: The PEMDAS rule gives us the correct sequence for solving a mathematical expression. In the PEMDAS rule, operations are performd in parenthesis first. Next operations are performed on exponents or powers. This is followed by the operations of multiplication or division from left to right, whichever comes first."
      ],
      "metadata": {
        "id": "_fuRVcIjSl10"
      }
    },
    {
      "cell_type": "markdown",
      "source": [
        "### PEMDAS:\n",
        "- P - Parenthesis, ()\n",
        "- E - Exponents, A2\n",
        "- M - Multiplication, *\n",
        "- D - Division, /\n",
        "- A - Addition, +\n",
        "- S - Subtraction, -"
      ],
      "metadata": {
        "id": "B3mXYdKStN2D"
      }
    },
    {
      "cell_type": "markdown",
      "source": [],
      "metadata": {
        "id": "7-HWvDCcsKKL"
      }
    },
    {
      "cell_type": "code",
      "execution_count": null,
      "metadata": {
        "colab": {
          "base_uri": "https://localhost:8080/"
        },
        "id": "8tCDXiZ-Qrcx",
        "outputId": "b59fe1fb-6ed0-4935-c751-0822d1ae82e1"
      },
      "outputs": [
        {
          "output_type": "stream",
          "name": "stdout",
          "text": [
            "81.0\n"
          ]
        }
      ],
      "source": [
        "x = 45\n",
        "y = 98\n",
        "z = 100\n",
        "average = (x + y + z) / 3\n",
        "print(average)"
      ]
    },
    {
      "cell_type": "code",
      "source": [
        "a = 58\n",
        "b = 96\n",
        "c = 100\n",
        "add= (a + b + c)\n",
        "print(add)"
      ],
      "metadata": {
        "colab": {
          "base_uri": "https://localhost:8080/"
        },
        "id": "VbBKF0MsSCwk",
        "outputId": "51e0295f-6ff0-443a-cbab-a51d9adbe890"
      },
      "execution_count": null,
      "outputs": [
        {
          "output_type": "stream",
          "name": "stdout",
          "text": [
            "254\n"
          ]
        }
      ]
    },
    {
      "cell_type": "code",
      "source": [
        "e = 88\n",
        "f = 99\n",
        "g = 10\n",
        "sub = (e - f - g)\n",
        "print(sub)"
      ],
      "metadata": {
        "colab": {
          "base_uri": "https://localhost:8080/"
        },
        "id": "A0xDzMFVSW71",
        "outputId": "6b79b98a-8843-4710-ff86-15a9ab81e594"
      },
      "execution_count": null,
      "outputs": [
        {
          "output_type": "stream",
          "name": "stdout",
          "text": [
            "-21\n"
          ]
        }
      ]
    },
    {
      "cell_type": "code",
      "source": [
        "o = 88\n",
        "p = 99\n",
        "q = 1000\n",
        "mul = (o * p + q)\n",
        "print(mul)"
      ],
      "metadata": {
        "colab": {
          "base_uri": "https://localhost:8080/"
        },
        "id": "C5U9NUCWSd7L",
        "outputId": "73f535a7-5dfb-4cdd-c613-90a0b83b2dac"
      },
      "execution_count": null,
      "outputs": [
        {
          "output_type": "stream",
          "name": "stdout",
          "text": [
            "9712\n"
          ]
        }
      ]
    },
    {
      "cell_type": "code",
      "source": [
        "m = 980\n",
        "n = 99\n",
        "o = 20\n",
        "div = (m / n + o)\n",
        "print(div)"
      ],
      "metadata": {
        "id": "S0uMwgR1SikD",
        "colab": {
          "base_uri": "https://localhost:8080/"
        },
        "outputId": "d516b169-7437-4d7e-e14c-3e5749eafbb6"
      },
      "execution_count": 8,
      "outputs": [
        {
          "output_type": "stream",
          "name": "stdout",
          "text": [
            "29.8989898989899\n"
          ]
        }
      ]
    },
    {
      "cell_type": "code",
      "source": [
        "s = 532\n",
        "t = 98\n",
        "u = 33\n",
        "mod = (s % t + u)\n",
        "print(mod)"
      ],
      "metadata": {
        "colab": {
          "base_uri": "https://localhost:8080/"
        },
        "id": "jKlInndxwa7s",
        "outputId": "e7647773-4dc9-4fee-c2fc-8bc19d7edc21"
      },
      "execution_count": 9,
      "outputs": [
        {
          "output_type": "stream",
          "name": "stdout",
          "text": [
            "75\n"
          ]
        }
      ]
    }
  ]
}