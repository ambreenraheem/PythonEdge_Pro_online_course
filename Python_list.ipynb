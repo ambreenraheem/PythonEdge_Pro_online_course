{
  "nbformat": 4,
  "nbformat_minor": 0,
  "metadata": {
    "colab": {
      "provenance": [],
      "authorship_tag": "ABX9TyMT0cIKj9/TLy0xnlAtPnuR",
      "include_colab_link": true
    },
    "kernelspec": {
      "name": "python3",
      "display_name": "Python 3"
    },
    "language_info": {
      "name": "python"
    }
  },
  "cells": [
    {
      "cell_type": "markdown",
      "metadata": {
        "id": "view-in-github",
        "colab_type": "text"
      },
      "source": [
        "<a href=\"https://colab.research.google.com/github/ambreenraheem/PythonEdge_Pro_online_course/blob/main/Python_list.ipynb\" target=\"_parent\"><img src=\"https://colab.research.google.com/assets/colab-badge.svg\" alt=\"Open In Colab\"/></a>"
      ]
    },
    {
      "cell_type": "markdown",
      "source": [
        "Date: 19-October-2025\n",
        "## Instructor: Ambreen Abdul Raheem\n",
        "### Professional Power BI Data Analyst And AI Agent Developer (Upwork Freelancer)"
      ],
      "metadata": {
        "id": "9HxaDjNK-hoN"
      }
    },
    {
      "cell_type": "markdown",
      "source": [
        "#### Topic: Python List"
      ],
      "metadata": {
        "id": "cag6esM_-3Wr"
      }
    },
    {
      "cell_type": "code",
      "execution_count": 2,
      "metadata": {
        "colab": {
          "base_uri": "https://localhost:8080/"
        },
        "id": "fSf8vtE0-dHH",
        "outputId": "f74846db-1496-46ac-bc1a-58f66e0dc85b"
      },
      "outputs": [
        {
          "output_type": "stream",
          "name": "stdout",
          "text": [
            "['apple', 'banana', 'cherry']\n"
          ]
        }
      ],
      "source": [
        "# Creating a list\n",
        "fruits = [\"apple\", \"banana\", \"cherry\"]\n",
        "print(fruits)"
      ]
    },
    {
      "cell_type": "code",
      "source": [
        "# Allow Duplicates\n",
        "fruits = [\"apple\", \"banana\", \"cherry\", \"apple\", \"cherry\"]\n",
        "print(fruits)"
      ],
      "metadata": {
        "colab": {
          "base_uri": "https://localhost:8080/"
        },
        "id": "IAidOYkf_VLS",
        "outputId": "0d7f11aa-e71e-488d-b4ea-f00e87991f67"
      },
      "execution_count": 3,
      "outputs": [
        {
          "output_type": "stream",
          "name": "stdout",
          "text": [
            "['apple', 'banana', 'cherry', 'apple', 'cherry']\n"
          ]
        }
      ]
    },
    {
      "cell_type": "code",
      "source": [
        "# List Length\n",
        "fruits = [\"apple\", \"banana\", \"cherry\"]\n",
        "print(len(fruits))"
      ],
      "metadata": {
        "colab": {
          "base_uri": "https://localhost:8080/"
        },
        "id": "LES-iETJ_n64",
        "outputId": "cd8f8689-3924-47d2-8163-035720a0e1a6"
      },
      "execution_count": 4,
      "outputs": [
        {
          "output_type": "stream",
          "name": "stdout",
          "text": [
            "3\n"
          ]
        }
      ]
    },
    {
      "cell_type": "code",
      "source": [
        "# List Items – Data Types\n",
        "list1 = [\"apple\", \"banana\", \"cherry\"]      # String list\n",
        "list2 = [1, 5, 7, 9, 3]                   # Integer list\n",
        "list3 = [True, False, False]             # Boolean list\n",
        "list4 = [\"hello\", 25, True, 5.6]         # Mixed list (You can even mix different data types in a single list)\n",
        "print(\"Fruits:\",list1)\n",
        "print(\"Numbers:\",list2)\n",
        "print(\"Booleans:\",list3)\n",
        "print(\"Mixed:\", list4)"
      ],
      "metadata": {
        "colab": {
          "base_uri": "https://localhost:8080/"
        },
        "id": "l5tSXxmc_s45",
        "outputId": "2d2faa01-91fc-40d4-fe0c-a2f8bd18037b"
      },
      "execution_count": 5,
      "outputs": [
        {
          "output_type": "stream",
          "name": "stdout",
          "text": [
            "Fruits: ['apple', 'banana', 'cherry']\n",
            "Numbers: [1, 5, 7, 9, 3]\n",
            "Booleans: [True, False, False]\n",
            "Mixed: ['hello', 25, True, 5.6]\n"
          ]
        }
      ]
    },
    {
      "cell_type": "code",
      "source": [
        "# Accessing List Elements\n",
        "fruits = [\"apple\", \"banana\", \"cherry\"]\n",
        "print(fruits[0])    # Output: apple  → first element\n",
        "print(fruits[-3])   # Output: apple  → accessed from the end"
      ],
      "metadata": {
        "colab": {
          "base_uri": "https://localhost:8080/"
        },
        "id": "VW9e5suo_8TF",
        "outputId": "ff0e7fa8-8379-4de0-e4a0-338396e7b589"
      },
      "execution_count": 6,
      "outputs": [
        {
          "output_type": "stream",
          "name": "stdout",
          "text": [
            "apple\n",
            "apple\n"
          ]
        }
      ]
    },
    {
      "cell_type": "code",
      "source": [
        "# Modifying Lists\n",
        "fruits = [\"apple\", \"banana\", \"cherry\"]\n",
        "fruits[-3] = \"watermelon\"   # Replace \"apple\" with \"watermelon\"\n",
        "print(\"I modify my List of fruits:\", fruits)\n",
        "\n",
        "students = [\"Faiza\", \"Ahmed\", \"Ali\"]\n",
        "students[-2] = \"Ambreen\"      # Replace \"Ahmed\" with \"Ambreen\"\n",
        "print(\"I modify my List of students:\",students)"
      ],
      "metadata": {
        "colab": {
          "base_uri": "https://localhost:8080/"
        },
        "id": "Rb9zMrnYAITw",
        "outputId": "630f7384-66ca-4896-f0e8-e8356acc6e79"
      },
      "execution_count": 7,
      "outputs": [
        {
          "output_type": "stream",
          "name": "stdout",
          "text": [
            "I modify my List of fruits: ['watermelon', 'banana', 'cherry']\n",
            "I modify my List of students: ['Faiza', 'Ambreen', 'Ali']\n"
          ]
        }
      ]
    }
  ]
}